{
 "cells": [
  {
   "cell_type": "markdown",
   "metadata": {},
   "source": [
    "# Projet_CD2\n",
    "Projet de Maths du cours Calcul Différentiel II"
   ]
  },
  {
   "cell_type": "code",
   "execution_count": 1,
   "metadata": {
    "collapsed": true
   },
   "outputs": [],
   "source": [
    "#Importations\n",
    "from mpl_toolkits.mplot3d import Axes3D\n",
    "import numpy as np\n",
    "import matplotlib.pyplot as plt"
   ]
  },
  {
   "cell_type": "markdown",
   "metadata": {},
   "source": [
    "## Amorce\n",
    "Question : À quelle condition raisonnable portant sur $f(0, 0), f(0, 1)$ et le réel\n",
    "$c$ est-on certain qu’il existe un $t \\in [0, 1]$ tel que $f(0, t) = c$ ? Développer une\n",
    "fonction qui renvoie un flottant éloigné d’au plus `eps` d’un tel `t` ou `None` si la condition\n",
    "évoquée ci-dessus n’est pas satisfaite.\n",
    "\n",
    "Il suffit que la fonction qui a $t$ associe $f(0,t)$ soit continue sur $[0,1]$ (ce qui est le cas car $f$ est continûment différentiable), et que $(f(0,0)-c)(f(0,1)-c) <= 0$ pour appliquer le TVI.\n",
    "Voir la fonction `find_seed(g, c=0, eps=2**(-26))`\n",
    "\n"
   ]
  },
  {
   "cell_type": "code",
   "execution_count": 6,
   "metadata": {},
   "outputs": [
    {
     "name": "stdout",
     "output_type": "stream",
     "text": [
      "$\\pi$ /6 = 0.523598775267601\n"
     ]
    }
   ],
   "source": [
    "def find_seed(g, c=0, eps=2**(-26)):\n",
    "    \"\"\"Methode renvoyant un réel t de [0,1] tq g(t) = c.\n",
    "    La fonction retourne une valueError si jamais (g(0)-c)(g(1)-c) > 0\"\"\"\n",
    "    if (g(0)-c)*(g(1)-c) > 0:\n",
    "        raise ValueError(\"Erreur : aucune garantie qu'un t tel que g(t) = c existe !\")\n",
    "    #On fait de la dichotomie car il faut travailler avec le eps\n",
    "    return dicho(lambda t : g(t) - c,0,1,eps)\n",
    "\n",
    "def dicho(g,a,b,eps):\n",
    "    \"\"\"Méthode récursive utilisant le principe de la dichotomie pour exploiter le TVI\"\"\"\n",
    "    m = (a+b)/2\n",
    "    if b-a <= 2*eps:\n",
    "        return m\n",
    "    elif g(a)*g(m) <= 0:\n",
    "        return dicho(g,a,m,eps)\n",
    "    else:\n",
    "        return dicho(g,m,b,eps)\n",
    "    \n",
    "#Test\n",
    "print(f\"$\\pi$ /6 = {find_seed(np.sin, c=1/2)}\")"
   ]
  },
  {
   "cell_type": "markdown",
   "metadata": {},
   "source": [
    "## Propagation\n",
    "On souhaite implémenter une fonction dont la signature est :\n",
    "\n",
    "`def simple_contour(f, c=0.0, delta=0.01):\n",
    "...\n",
    "return x, y`\n",
    "qui renvoie un fragment de ligne de niveau de valeur c de f, sous la forme\n",
    "de deux tableaux 1d d’abscisses et d’ordonnées de points de cette ligne. Les\n",
    "points devront être espacés d’approximativement delta. En cas d’impossibilité\n",
    "de générer un tel fragment deux tableaux vides devront être renvoyés."
   ]
  }
 ],
 "metadata": {
  "kernelspec": {
   "display_name": "Python 3",
   "language": "python",
   "name": "python3"
  },
  "language_info": {
   "codemirror_mode": {
    "name": "ipython",
    "version": 3
   },
   "file_extension": ".py",
   "mimetype": "text/x-python",
   "name": "python",
   "nbconvert_exporter": "python",
   "pygments_lexer": "ipython3",
   "version": "3.6.1"
  }
 },
 "nbformat": 4,
 "nbformat_minor": 2
}
